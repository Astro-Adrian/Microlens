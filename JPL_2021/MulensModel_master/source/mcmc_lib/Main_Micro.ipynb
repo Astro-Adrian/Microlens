{
 "cells": [
  {
   "cell_type": "code",
   "execution_count": null,
   "metadata": {},
   "outputs": [],
   "source": [
    "from grid_fitter import load_data as dat"
   ]
  },
  {
   "cell_type": "code",
   "execution_count": null,
   "metadata": {},
   "outputs": [],
   "source": [
    "t0_est = dat.to_test\n",
    "u0_est = dat.uo_test\n",
    "tE_est = dat.tE_test \n",
    "print(t0_est)\n",
    "print(u0_est)\n",
    "print(tE_est)"
   ]
  },
  {
   "cell_type": "code",
   "execution_count": null,
   "metadata": {},
   "outputs": [],
   "source": [
    "import mcmcFit as mcfit\n",
    "filename = 'test'\n",
    "u0,t0,tE,Ftot,fb,u0err,t0err,tEerr,Ftoterr,fberr = mcfit.mcmcFit(filename,dat.time_flag -2450000, dat.mag_flag, dat.err_flag,u0_est,t0_est-2450000,tE_est)\n",
    "\n",
    "print(t0,u0,tE)"
   ]
  },
  {
   "cell_type": "code",
   "execution_count": null,
   "metadata": {},
   "outputs": [],
   "source": [
    "import MulensModel as mm\n",
    "from MulensModel.utils import Utils\n",
    "import matplotlib.pyplot as pl\n",
    "\n",
    "mcmc_model= mm.Model({'t_0': t0+2450000, 'u_0':u0, 't_E':tE})\n",
    "mcmc_event = mm.Event(datasets=[dat.K_data,dat.H_data], model=mcmc_model)\n",
    "\n",
    "# pl.figure(figsize=(15,10)) \n",
    "# mcmc_event.plot_model(t_range = [2457900,2458800],subtract_2450000=True,color='black')\n",
    "# mcmc_event.plot_data(subtract_2450000=True,show_bad=True)\n",
    "# pl.xlim(8600,8800)\n",
    "# pl.show()"
   ]
  },
  {
   "cell_type": "code",
   "execution_count": null,
   "metadata": {},
   "outputs": [],
   "source": [
    "import numpy as np\n",
    "dat.K_data.bad = np.isnan(dat.K_data.err_mag)"
   ]
  },
  {
   "cell_type": "code",
   "execution_count": null,
   "metadata": {},
   "outputs": [],
   "source": [
    "from grid_fitter import grid_code"
   ]
  },
  {
   "cell_type": "code",
   "execution_count": null,
   "metadata": {},
   "outputs": [],
   "source": [
    "grid_code.grid_fit(t0+2450000,u0,tE,-10)"
   ]
  },
  {
   "cell_type": "code",
   "execution_count": null,
   "metadata": {
    "scrolled": false
   },
   "outputs": [],
   "source": []
  },
  {
   "cell_type": "code",
   "execution_count": null,
   "metadata": {},
   "outputs": [],
   "source": []
  },
  {
   "cell_type": "code",
   "execution_count": null,
   "metadata": {},
   "outputs": [],
   "source": []
  }
 ],
 "metadata": {
  "kernelspec": {
   "display_name": "Python 3",
   "language": "python",
   "name": "python3"
  },
  "language_info": {
   "codemirror_mode": {
    "name": "ipython",
    "version": 3
   },
   "file_extension": ".py",
   "mimetype": "text/x-python",
   "name": "python",
   "nbconvert_exporter": "python",
   "pygments_lexer": "ipython3",
   "version": "3.8.3"
  }
 },
 "nbformat": 4,
 "nbformat_minor": 4
}
