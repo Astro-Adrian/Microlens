{
 "cells": [
  {
   "cell_type": "code",
   "execution_count": null,
   "metadata": {},
   "outputs": [],
   "source": [
    "import numpy as np "
   ]
  },
  {
   "cell_type": "code",
   "execution_count": null,
   "metadata": {},
   "outputs": [],
   "source": [
    "t0_est = time[mag.argmin()]\n",
    "\n",
    "# Estimate u_0\n",
    "base = np.mean(mag) \n",
    "peak = min(data.mag)\n",
    "delta_mag = base - peak \n",
    "A =10.**(delta_mag / -2.5)\n",
    "\n",
    "u0_est = 1. / A_max # True in the high-magnification limit\n",
    "\n",
    "# Estimate t_E by determining when the light curve is A(t) = 1.3 (i.e. delta_mag = 0.3)\n",
    "t_1 = np.interp( baseline_mag - 0.3, data.mag[index_t_0:0:-1], data.time[index_t_0:0:-1])\n",
    "tE_est = np.abs((t0_est - t_1) / np.sqrt(1. - u0_est**2))\n",
    "\n",
    "print(t0_est,u0_est,tE_est)"
   ]
  },
  {
   "cell_type": "code",
   "execution_count": null,
   "metadata": {},
   "outputs": [],
   "source": []
  }
 ],
 "metadata": {
  "kernelspec": {
   "display_name": "Python 3",
   "language": "python",
   "name": "python3"
  },
  "language_info": {
   "codemirror_mode": {
    "name": "ipython",
    "version": 3
   },
   "file_extension": ".py",
   "mimetype": "text/x-python",
   "name": "python",
   "nbconvert_exporter": "python",
   "pygments_lexer": "ipython3",
   "version": "3.8.3"
  }
 },
 "nbformat": 4,
 "nbformat_minor": 4
}
