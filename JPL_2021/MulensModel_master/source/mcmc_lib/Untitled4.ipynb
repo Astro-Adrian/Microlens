{
 "cells": [
  {
   "cell_type": "code",
   "execution_count": 7,
   "metadata": {},
   "outputs": [
    {
     "name": "stdout",
     "output_type": "stream",
     "text": [
      "                                0\n",
      "0   2458592.08615 15.272 0.041  H\n",
      "1   2458595.07822 15.191 0.041  H\n",
      "2   2458601.06641 15.261 0.034  H\n",
      "3   2458607.05306 15.192 0.043  H\n",
      "4   2458613.05453 15.108 0.038  H\n",
      "..                            ...\n",
      "62  2458315.89496 15.200 0.032  H\n",
      "63  2458321.84883 15.239 0.029  H\n",
      "64  2458327.85844 15.165 0.034  H\n",
      "65  2458330.80069 15.243 0.030  H\n",
      "66  2458336.78635 15.183 0.040  H\n",
      "\n",
      "[67 rows x 1 columns]\n"
     ]
    }
   ],
   "source": [
    "import pandas as pd\n",
    "df = pd.read_csv('/Users/adrianhernandez/JPL_2021/ukirt_files/UK2019_c2_4_4_H_C58505.txt', sep=\" \", header=None,delimiter = \"\\t\")\n",
    "print(df)"
   ]
  },
  {
   "cell_type": "code",
   "execution_count": null,
   "metadata": {},
   "outputs": [],
   "source": []
  }
 ],
 "metadata": {
  "kernelspec": {
   "display_name": "Python 3",
   "language": "python",
   "name": "python3"
  },
  "language_info": {
   "codemirror_mode": {
    "name": "ipython",
    "version": 3
   },
   "file_extension": ".py",
   "mimetype": "text/x-python",
   "name": "python",
   "nbconvert_exporter": "python",
   "pygments_lexer": "ipython3",
   "version": "3.8.3"
  }
 },
 "nbformat": 4,
 "nbformat_minor": 4
}
