{
 "cells": [
  {
   "cell_type": "code",
   "execution_count": null,
   "metadata": {
    "scrolled": true
   },
   "outputs": [],
   "source": [
    "import sys\n",
    "import os\n",
    "\n",
    "local_path='/Users/adrianhernandez/JPL_2021/'\n",
    "sys.path.append(local_path + 'MulensModel_master/source')"
   ]
  },
  {
   "cell_type": "code",
   "execution_count": null,
   "metadata": {
    "scrolled": true
   },
   "outputs": [],
   "source": [
    "import numpy as np\n",
    "\n",
    "import matplotlib.pyplot as pl\n",
    "import numpy as np\n",
    "import scipy.optimize as op\n",
    "import astropy.units as u\n",
    "from scipy.stats import chisquare\n",
    "from datetime import datetime\n",
    "from astropy.coordinates import SkyCoord\n",
    "import pandas as pd\n",
    "from scipy import stats\n",
    "import MulensModel as mm\n",
    "from MulensModel.utils import Utils\n",
    "import mcmcFit as mcfit"
   ]
  },
  {
   "cell_type": "code",
   "execution_count": null,
   "metadata": {
    "scrolled": true
   },
   "outputs": [],
   "source": [
    "#reading in data and loading it as arrays \n",
    "\n",
    "from glob import glob\n",
    "im_dir = '/Users/adrianhernandez/JPL_2021/ukirt_psf/'\n",
    "ukirt_file = glob(f\"{im_dir}/*P71224*.txt\")\n",
    "\n",
    "#print(ukirt_file[2])\n",
    "\n",
    "filename = ukirt_file[2][44:64]\n",
    "ukirt_data_H = np.loadtxt(ukirt_file[0], usecols=range(3)) #H band data \n",
    "ukirt_data_K = np.loadtxt(ukirt_file[2], usecols=range(3)) # K band data \n",
    "H_data = mm.MulensData(file_name=ukirt_file[0]) #used only for the mulens code \n",
    "K_data = mm.MulensData(file_name=ukirt_file[2]) #used only for the mulens code\n",
    "print(filename)\n",
    "\n",
    "data = np.concatenate((ukirt_data_H,ukirt_data_K)) # combining both bands\n",
    "print(len(data))"
   ]
  },
  {
   "cell_type": "code",
   "execution_count": null,
   "metadata": {
    "scrolled": true
   },
   "outputs": [],
   "source": [
    "# ***Set time range of planetary perturbation (including 2450000).***\n",
    "(t_planet_start, t_planet_stop) = (2458660.,2458690.)\n",
    "\n",
    "# ***Set time range of planetary perturbation (including 2450000).***\n",
    "\n",
    "# *Set the magnification methods for the planet model*\n",
    "# VBBL method will be used between t_planet_start and t_planet_stop, \n",
    "# and point_source_point_lens will be used everywhere else.\n",
    "magnification_methods = [0, 'point_source_point_lens', \n",
    "    t_planet_start, 'VBBL', t_planet_stop, \n",
    "    'point_source_point_lens', 2459000.]"
   ]
  },
  {
   "cell_type": "code",
   "execution_count": null,
   "metadata": {
    "scrolled": true
   },
   "outputs": [],
   "source": [
    "## np.set_printoptions(threshold=sys.maxsize)\n",
    "\n",
    "#Define fitting functions\n",
    "\n",
    "def chi2_fun(theta, event, parameters_to_fit):\n",
    "    \"\"\"                                                                         \n",
    "    Chi2 function. Changes values of the parameters and recalculates chi2.\n",
    "    \n",
    "    event = a MulensModel.Event\n",
    "    parameters_to_fit = list of names of parameters to be changed\n",
    "    theta = values of the corresponding parameters\n",
    "    \"\"\"\n",
    "    # key = the name of the MulensModel parameter\n",
    "    for (index, key) in enumerate(parameters_to_fit):\n",
    "        if (key == 't_E' or key =='rho') and theta[index] < 0.:\n",
    "            return np.inf \n",
    "        setattr(event.model.parameters, key, theta[index])\n",
    "    return event.get_chi2(fit_blending = True)\n",
    "\n",
    "def fit_model(event, parameters_to_fit):\n",
    "    \"\"\"\n",
    "    Fit an \"event\" with \"parameters_to_fit\" as free parameters.\n",
    "    \n",
    "    event = a MulensModel event\n",
    "    parameters_to_fit = list of parameters to fit\n",
    "    \"\"\"\n",
    "    # Take the initial starting point from the event.\n",
    "    x0 = []\n",
    "    for key in parameters_to_fit:\n",
    "        value = getattr(event.model.parameters, key)\n",
    "        if isinstance(value, u.Quantity):\n",
    "            x0.append(value.value)\n",
    "        else:\n",
    "            x0.append(value)\n",
    "\n",
    "    # *Execute fit using a 'Nelder-Mead' algorithm*\n",
    "    result = op.minimize(\n",
    "        chi2_fun, x0=x0, args=(event, parameters_to_fit),\n",
    "        method='Nelder-Mead')\n",
    "\n",
    "    return result"
   ]
  },
  {
   "cell_type": "code",
   "execution_count": 164,
   "metadata": {
    "scrolled": true
   },
   "outputs": [
    {
     "name": "stdout",
     "output_type": "stream",
     "text": [
      "[-0.22184875 -0.21684875 -0.21184875 -0.20684875 -0.20184875 -0.19684875\n",
      " -0.19184875 -0.18684875 -0.18184875 -0.17684875 -0.17184875 -0.16684875\n",
      " -0.16184875 -0.15684875 -0.15184875 -0.14684875 -0.14184875 -0.13684875\n",
      " -0.13184875 -0.12684875 -0.12184875 -0.11684875 -0.11184875 -0.10684875\n",
      " -0.10184875 -0.09684875 -0.09184875 -0.08684875 -0.08184875 -0.07684875\n",
      " -0.07184875 -0.06684875 -0.06184875 -0.05684875 -0.05184875 -0.04684875\n",
      " -0.04184875 -0.03684875 -0.03184875 -0.02684875 -0.02184875 -0.01684875\n",
      " -0.01184875 -0.00684875 -0.00184875  0.00315125  0.00815125  0.01315125\n",
      "  0.01815125  0.02315125  0.02815125  0.03315125  0.03815125  0.04315125\n",
      "  0.04815125  0.05315125  0.05815125  0.06315125  0.06815125  0.07315125\n",
      "  0.07815125  0.08315125  0.08815125  0.09315125  0.09815125  0.10315125\n",
      "  0.10815125  0.11315125  0.11815125  0.12315125  0.12815125  0.13315125\n",
      "  0.13815125  0.14315125  0.14815125  0.15315125  0.15815125  0.16315125\n",
      "  0.16815125  0.17315125]\n",
      "[-5.   -4.95 -4.9  -4.85 -4.8  -4.75 -4.7  -4.65 -4.6  -4.55 -4.5  -4.45\n",
      " -4.4  -4.35 -4.3  -4.25 -4.2  -4.15 -4.1  -4.05 -4.   -3.95 -3.9  -3.85\n",
      " -3.8  -3.75 -3.7  -3.65 -3.6  -3.55 -3.5  -3.45 -3.4  -3.35 -3.3  -3.25\n",
      " -3.2  -3.15 -3.1  -3.05 -3.   -2.95 -2.9  -2.85 -2.8  -2.75 -2.7  -2.65\n",
      " -2.6  -2.55 -2.5  -2.45 -2.4  -2.35 -2.3  -2.25 -2.2  -2.15 -2.1  -2.05\n",
      " -2.   -1.95 -1.9  -1.85 -1.8  -1.75 -1.7  -1.65 -1.6  -1.55 -1.5  -1.45\n",
      " -1.4  -1.35 -1.3  -1.25 -1.2  -1.15 -1.1  -1.05]\n"
     ]
    }
   ],
   "source": [
    "# Using the Point Lens fit as input, search for a planetary solution\n",
    "#\n",
    "# Grid parameters: s (log), q (log)\n",
    "# Fit parameters: rho, alpha\n",
    "# PSPL parameters: t_0, u_0, t_E\n",
    "#\n",
    "\n",
    "# *Define the grid*\n",
    "delta_log_s = 0.005\n",
    "delta_log_q = 0.05\n",
    "# grid_log_s = np.hstack(\n",
    "#     (np.arange(\n",
    "#         np.log10(0.1) - .1, np.log10(0.8) + 0.1, delta_log_s),\n",
    "#     np.arange(\n",
    "#         np.log10(1.2) - 0.1, np.log10(1.2) + 0.1, delta_log_s)))\n",
    "grid_log_s = np.arange(np.log10(.6),np.log10(1.5),delta_log_s)\n",
    "grid_log_q = np.arange(-5, -1, delta_log_q)\n",
    "\n",
    "print(grid_log_s)\n",
    "print(grid_log_q)"
   ]
  },
  {
   "cell_type": "code",
   "execution_count": null,
   "metadata": {
    "scrolled": true
   },
   "outputs": [],
   "source": [
    "alpha_new = -9"
   ]
  },
  {
   "cell_type": "code",
   "execution_count": null,
   "metadata": {
    "scrolled": false
   },
   "outputs": [],
   "source": [
    "# For each grid point, fit for rho, alpha\n",
    "grid = np.empty((5, len(grid_log_s) * len(grid_log_q)))\n",
    "i = 0\n",
    "print('{0:>12} {1:>6} {2:>7} {3:>7} {4:>7}'.format('chi2', 's', 'q', 'alpha', 'rho'))\n",
    "for log_s in grid_log_s:\n",
    "    for log_q in grid_log_q:\n",
    "        # The major and minor images are on opposite sides of the lens:\n",
    "        if log_s < 0.:\n",
    "            alpha = alpha_new + 180.\n",
    "        else:\n",
    "            alpha = alpha_new\n",
    "            \n",
    "        # Define the Model and Event\n",
    "        planet_model = mm.Model({\n",
    "            't_0': 2458654.0, \n",
    "            'u_0': 0.03,\n",
    "            't_E': 50.0,\n",
    "            'rho': 10**(-2),\n",
    "            's': 10.**log_s,\n",
    "            'q': 10.**log_q,\n",
    "            'alpha': alpha})\n",
    "        planet_model.set_magnification_methods(magnification_methods)\n",
    "        planet_event = mm.Event(datasets = [H_data,K_data], model=planet_model)\n",
    "            \n",
    "        # Fit the Event\n",
    "        result = fit_model(planet_event, parameters_to_fit=['rho', 'alpha'])\n",
    "        if result.success:\n",
    "            chi2 = planet_event.get_chi2()\n",
    "        else:\n",
    "            chi2 = np.inf\n",
    "                \n",
    "        # Print and store result of fit\n",
    "        print('{0:12.2f} {1:6.4f} {2:7.5f} {3:7.2f} {4:7.5f}'.format(\n",
    "            chi2, 10.**log_s, 10.**log_q, \n",
    "            planet_event.model.parameters.alpha, planet_event.model.parameters.rho))\n",
    "        \n",
    "        grid[0, i] = log_s\n",
    "        grid[1, i] = log_q\n",
    "        grid[2, i] = chi2\n",
    "        grid[3, i] = planet_event.model.parameters.alpha.value\n",
    "        grid[4, i] = planet_event.model.parameters.rho      \n",
    "        i += 1"
   ]
  },
  {
   "cell_type": "code",
   "execution_count": null,
   "metadata": {
    "scrolled": true
   },
   "outputs": [],
   "source": [
    "index_best = np.argmin(np.array(grid[2,:]))\n",
    "index_sorted = np.argsort(np.array(grid[2,:]))"
   ]
  },
  {
   "cell_type": "code",
   "execution_count": null,
   "metadata": {
    "scrolled": true
   },
   "outputs": [],
   "source": [
    "# Plot the grid\n",
    "\n",
    "n_best = 8 \n",
    "colors = ['magenta', 'green', 'cyan','yellow','blue', 'red','orange']\n",
    "if len(colors) < n_best - 1:\n",
    "    raise ValueError('colors must have at least n_best -1 entries.')\n",
    "\n",
    "# Plot the grid\n",
    "\n",
    "fig, axes = pl.subplots(nrows=1, ncols=2,figsize=(10,10))\n",
    "n_plot = 0\n",
    "for i in np.arange(2):\n",
    "    if i == 0:\n",
    "        index_logs = np.where(grid_log_s < 0.)[0]\n",
    "        index_grid = np.where(grid[0, :] < 0.)[0]\n",
    "    else:\n",
    "        index_logs = np.where(grid_log_s >= 0.)[0]\n",
    "        index_grid = np.where(grid[0, :] >= 0.)[0]\n",
    "    \n",
    "    # Plot chi2 map\n",
    "\n",
    "    chi2 = np.transpose(\n",
    "            grid[2, index_grid].reshape(len(index_logs), len(grid_log_q)))\n",
    "    \n",
    "    im = axes[i].imshow(\n",
    "        chi2, aspect='auto', origin='lower',\n",
    "        extent=[\n",
    "            np.min(grid_log_s[index_logs]) - delta_log_s , \n",
    "            np.max(grid_log_s[index_logs]) + delta_log_s ,\n",
    "            np.min(grid_log_q) - delta_log_q, \n",
    "            np.max(grid_log_q) ],\n",
    "        cmap='gray', \n",
    "        vmin=np.min(grid[2,:]), vmax=np.nanmax(grid[2,np.isfinite(grid[2,:])]))  \n",
    "    \n",
    "    # Mark best values: best=\"X\", other good=\"o\"\n",
    "    if index_best in index_grid:\n",
    "        axes[i].scatter(grid[0, index_best], grid[1, index_best], marker='x', color='white')\n",
    "    for j, index in enumerate(index_sorted[1:n_best]):\n",
    "        if index in index_grid:\n",
    "            axes[i].scatter(grid[0, index], grid[1, index], marker='o', color=colors[j - 1])\n",
    "            \n",
    "fig.subplots_adjust(right=0.9)\n",
    "cbar_ax = fig.add_axes([0.95, 0.15, 0.05, 0.7])\n",
    "fig.colorbar(im, cax=cbar_ax)\n",
    "\n",
    "fig.text(0.5, 0.92, r'$\\chi^2$ Map', ha='center')\n",
    "fig.text(0.5, 0.04, 'log s', ha='center')\n",
    "fig.text(0.04, 0.5, 'log q', va='center', rotation='vertical')\n",
    "fig.text(1.1, 0.5, r'$\\chi^2$', va='center', rotation='vertical')\n",
    "pl.savefig('grid.png', format='png', dpi=1200,orientation='landscape')\n",
    "pl.show()"
   ]
  },
  {
   "cell_type": "code",
   "execution_count": null,
   "metadata": {
    "scrolled": true
   },
   "outputs": [],
   "source": [
    "def make_grid_model(index):\n",
    "    \"\"\"\n",
    "    Define a Model using the gridpoint information + the PSPL parameters.\n",
    "    \n",
    "    index = index of the grid point for which to generate the model\n",
    "    \"\"\"\n",
    "    model = mm.Model({\n",
    "        't_0': planet_event.model.parameters.t_0, \n",
    "        'u_0': planet_event.model.parameters.u_0,\n",
    "        't_E': planet_event.model.parameters.t_E,\n",
    "        'rho': grid[4, index],\n",
    "        's': 10.**grid[0, index],\n",
    "        'q': 10.**grid[1, index],\n",
    "        'alpha': grid[3, index]})\n",
    "    model.set_magnification_methods(magnification_methods)\n",
    "    model_event = mm.Event(datasets = [H_data,K_data], model=model)\n",
    "    return model"
   ]
  },
  {
   "cell_type": "code",
   "execution_count": null,
   "metadata": {
    "scrolled": false
   },
   "outputs": [],
   "source": [
    "# Plot the best-fit model\n",
    "best_fit_model = make_grid_model(index_best)\n",
    "print('Best Models')\n",
    "print(best_fit_model)\n",
    "\n",
    "best_fit_event = mm.Event(datasets=[H_data,K_data], model=best_fit_model)\n",
    "(f_source, f_blend) = best_fit_event.get_ref_fluxes(fit_blending = True)\n",
    "\n",
    "# # Whole model\n",
    "# t_range_whole = [best_fit_model.parameters.t_0 - 5. * best_fit_model.parameters.t_E,\n",
    "#                  best_fit_model.parameters.t_0 + 5. * best_fit_model.parameters.t_E]\n",
    "pl.figure(figsize=(10,10))\n",
    "best_fit_event.plot_model(t_range = [2457900,2458800],subtract_2450000=True, color='black')\n",
    "best_fit_event.plot_data(subtract_2450000=True)\n",
    "pl.title(filename + ' Grid model ')\n",
    "#pl.savefig(filename + '_grid_model', dpi=100)\n",
    "pl.show()\n",
    "\n",
    "# Zoom of planet\n",
    "# Best model = black\n",
    "pl.figure(figsize=(10,10))\n",
    "best_fit_event.plot_model(subtract_2450000=True, color='black',label='best',zorder=10)\n",
    "best_fit_event.plot_data(subtract_2450000=True, s=5, zorder=10)\n",
    "pl.xlim(8600,8725)\n",
    "pl.title(filename + ' grid model zoom')\n",
    "#pl.savefig(filename + '_grid_model_zoom', dpi=100)\n",
    "pl.show()\n",
    "\n",
    "pl.figure(figsize=(10,10))\n",
    "best_fit_event.plot_residuals(show_errorbars=True,subtract_2450000=True)\n",
    "pl.xlim(8600,8725)\n",
    "pl.ylim(-.2,.2)\n",
    "pl.title(filename + ' grid model residuals')\n",
    "#pl.savefig(filename + '_grid_model_res', dpi=100)\n",
    "pl.show()\n",
    "\n",
    "# Other models (color-coding matches grid)\n",
    "for j, index in enumerate(index_sorted[1:n_best]):\n",
    "    model = make_grid_model(index)\n",
    "    pl.figure(figsize=(10,10))\n",
    "    model.plot_lc( f_source=f_source, f_blend=f_blend,\n",
    "        subtract_2450000=True, color=colors[j - 1], lw=2)\n",
    "    best_fit_event.plot_data(subtract_2450000=True, s=10, zorder=0,marker_list = 'o',markerfacecolor='none')\n",
    "    pl.title('{0} best models'.format(n_best))\n",
    "    pl.xlim(8640,8685)\n",
    "    pl.legend(loc='best')\n",
    "    #print('chi2: {0}'.format(model_event.get_chi2(fit_blending=True)))\n",
    "    pl.show()\n",
    "    print(model)\n",
    "    \n",
    "\n",
    "# for i, index in enumerate(index_sorted[1:n_best]):\n",
    "#     model.plot_trajectory(color='blue', caustics=True)\n",
    "#     #pl.xlim(-.05,.3)\n",
    "#     #pl.ylim(-.10,.10)    \n",
    "#     pl.show()"
   ]
  },
  {
   "cell_type": "code",
   "execution_count": null,
   "metadata": {
    "scrolled": true
   },
   "outputs": [],
   "source": [
    "#create a smaller grid around the best fit solutions for q and s leaving all parameters open \n",
    "\n",
    "#best fit for s < 1 = 0.89774\n",
    "#other soltutions were are around 1.2 - 1.3 \n",
    "#all q solutions are between 1.0-7.0*10^(-2)\n"
   ]
  },
  {
   "cell_type": "code",
   "execution_count": null,
   "metadata": {
    "scrolled": true
   },
   "outputs": [],
   "source": [
    "np.log10(0.89774) +.03"
   ]
  },
  {
   "cell_type": "code",
   "execution_count": null,
   "metadata": {
    "scrolled": true
   },
   "outputs": [],
   "source": [
    "# Using the Point Lens fit as input, search for a planetary solution\n",
    "#\n",
    "# Grid parameters: s (log), q (log)\n",
    "# Fit parameters: rho, alpha\n",
    "# PSPL parameters: t_0, u_0, t_E\n",
    "#\n",
    "\n",
    "# *Define the grid*\n",
    "del_log_s = 0.002\n",
    "del_log_q = 0.0167\n",
    "#small fine grid set around solutions\n",
    "small_grid_log_s = np.hstack(\n",
    "    (np.arange(\n",
    "        np.log10(0.89774) - .03, np.log10(0.89774) + 0.03, del_log_s),\n",
    "    np.arange(\n",
    "        np.log10(1.2) - 0.03, np.log10(1.2) + 0.03, del_log_s)))\n",
    "#small fine grid set around solutions \n",
    "small_grid_log_q = np.arange(-2, -1, del_log_q)\n",
    "\n",
    "print(small_grid_log_s)\n",
    "print(small_grid_log_q)"
   ]
  },
  {
   "cell_type": "code",
   "execution_count": null,
   "metadata": {
    "scrolled": true
   },
   "outputs": [],
   "source": [
    "fit_alpha = -10.99199"
   ]
  },
  {
   "cell_type": "code",
   "execution_count": null,
   "metadata": {
    "scrolled": false
   },
   "outputs": [],
   "source": [
    "# For each grid point, fit for rho, alpha\n",
    "small_grid = np.empty((8, len(small_grid_log_s) * len(small_grid_log_q)))\n",
    "i = 0\n",
    "print('{0:>12} {1:>6} {2:>7} {3:>7} {4:>7} {5:>7} {6:>7} {7:>7}'.format('chi2','s','q','t_0','u_0','t_E','alpha', 'rho'))\n",
    "for new_log_s in small_grid_log_s:\n",
    "    for new_log_q in small_grid_log_q:\n",
    "        # The major and minor images are on opposite sides of the lens:\n",
    "        if new_log_s < 0.:\n",
    "            new_alpha = fit_alpha + 180.\n",
    "        else:\n",
    "            new_alpha = fit_alpha\n",
    "            \n",
    "        # Define the Model and Event\n",
    "        full_model = mm.Model({\n",
    "            't_0': 2458653.5, \n",
    "            'u_0': 0.041189,\n",
    "            't_E': 43.3,\n",
    "            'rho': 0.01887,\n",
    "            's': 10.**new_log_s,\n",
    "            'q': 10.**new_log_q,\n",
    "            'alpha': new_alpha})\n",
    "        full_model.set_magnification_methods(magnification_methods)\n",
    "        full_event = mm.Event(datasets = [H_data,K_data], model=full_model)\n",
    "            \n",
    "        # Fit the Event\n",
    "        result = fit_model(full_event, parameters_to_fit=['t_0','u_0','t_E','rho', 'alpha'])\n",
    "        if result.success:\n",
    "            chi_2 = full_event.get_chi2()\n",
    "        else:\n",
    "            chi_2 = np.inf\n",
    "                \n",
    "        # Print and store result of fit\n",
    "        print('{0:12.2f} {1:6.4f} {2:7.5f} {3:7.2f} {4:7.5f} {5:7.5f} {6:7.5f} {7:7.5f}'.format(\n",
    "            chi_2, 10.**new_log_s, 10.**new_log_q, \n",
    "            full_event.model.parameters.t_0,full_event.model.parameters.u_0,full_event.model.parameters.t_E,\n",
    "            full_event.model.parameters.alpha, full_event.model.parameters.rho))\n",
    "        \n",
    "        small_grid[0, i] = new_log_s\n",
    "        small_grid[1, i] = new_log_q\n",
    "        small_grid[2, i] = chi_2\n",
    "        small_grid[3, i] = full_event.model.parameters.alpha.value\n",
    "        small_grid[4, i] = full_event.model.parameters.rho\n",
    "        small_grid[5, i] = full_event.model.parameters.t_0\n",
    "        small_grid[6, i] = full_event.model.parameters.u_0\n",
    "        small_grid[7, i] = full_event.model.parameters.t_E\n",
    "        i += 1"
   ]
  },
  {
   "cell_type": "code",
   "execution_count": null,
   "metadata": {
    "scrolled": true
   },
   "outputs": [],
   "source": [
    "new_index_best = np.argmin(np.array(small_grid[2,:]))\n",
    "new_index_sorted = np.argsort(np.array(small_grid[2,:]))\n",
    "\n",
    "# Plot the grid\n",
    "\n",
    "n_best = 8 \n",
    "colors = ['magenta', 'green', 'cyan','yellow','blue', 'red','orange']\n",
    "if len(colors) < n_best - 1:\n",
    "    raise ValueError('colors must have at least n_best -1 entries.')\n",
    "\n",
    "# Plot the grid\n",
    "\n",
    "fig, axes = pl.subplots(nrows=1, ncols=2,figsize=(10,10))\n",
    "n_plot = 0\n",
    "for i in np.arange(2):\n",
    "    if i == 0:\n",
    "        new_index_logs = np.where(small_grid_log_s < 0.)[0] ##change\n",
    "        new_index_grid = np.where(small_grid[0, :] < 0.)[0] ##change \n",
    "    else:\n",
    "        new_index_logs = np.where(small_grid_log_s >= 0.)[0]\n",
    "        new_index_grid = np.where(small_grid[0, :] >= 0.)[0]\n",
    "    \n",
    "    # Plot chi2 map\n",
    "\n",
    "    chi_2 = np.transpose(\n",
    "            grid[2, new_index_grid].reshape(len(new_index_logs), len(small_grid_log_q)))\n",
    "    \n",
    "    im = axes[i].imshow(\n",
    "        chi_2, aspect='auto', origin='lower',\n",
    "        extent=[\n",
    "            np.min(small_grid_log_s[new_index_logs]) - del_log_s/2 , \n",
    "            np.max(small_grid_log_s[new_index_logs]) + del_log_s/2 ,\n",
    "            np.min(small_grid_log_q) - del_log_q/2, \n",
    "            np.max(small_grid_log_q)/2 ],\n",
    "        cmap='gray', \n",
    "        vmin=np.min(small_grid[2,:]), vmax=np.nanmax(small_grid[2,np.isfinite(small_grid[2,:])]))  \n",
    "    \n",
    "    # Mark best values: best=\"X\", other good=\"o\"\n",
    "    if new_index_best in new_index_grid:\n",
    "        axes[i].scatter(small_grid[0, new_index_best], small_grid[1, new_index_best], marker='x', color='white')\n",
    "    for j, new_index in enumerate(new_index_sorted[1:n_best]):\n",
    "        if new_index in new_index_grid:\n",
    "            axes[i].scatter(small_grid[0, new_index], small_grid[1, new_index], marker='o', color=colors[j - 1])\n",
    "            \n",
    "fig.subplots_adjust(right=0.9)\n",
    "cbar_ax = fig.add_axes([0.95, 0.15, 0.05, 0.7])\n",
    "fig.colorbar(im, cax=cbar_ax)\n",
    "\n",
    "fig.text(0.5, 0.92, r'$\\chi^2$ Map', ha='center')\n",
    "fig.text(0.5, 0.04, 'log s', ha='center')\n",
    "fig.text(0.04, 0.5, 'log q', va='center', rotation='vertical')\n",
    "fig.text(1.1, 0.5, r'$\\chi^2$', va='center', rotation='vertical')\n",
    "#pl.savefig('grid.png', format='png', dpi=1200,orientation='landscape')\n",
    "pl.show()"
   ]
  },
  {
   "cell_type": "code",
   "execution_count": null,
   "metadata": {},
   "outputs": [],
   "source": [
    "def new_grid_model(new_index):\n",
    "    \"\"\"\n",
    "    Define a Model using the gridpoint information + the PSPL parameters.\n",
    "    \n",
    "    index = index of the grid point for which to generate the model\n",
    "    \"\"\"\n",
    "    new_model = mm.Model({\n",
    "        't_0': small_grid[5, new_index], \n",
    "        'u_0': small_grid[6, new_index],\n",
    "        't_E': small_grid[7, new_index],\n",
    "        'rho': small_grid[4, new_index],\n",
    "        's': 10.**small_grid[0, new_index],\n",
    "        'q': 10.**small_grid[1, new_index],\n",
    "        'alpha': small_grid[3, new_index]})\n",
    "    new_model.set_magnification_methods(magnification_methods)\n",
    "    new_model_event = mm.Event(datasets = [H_data,K_data], model=new_model)\n",
    "    return new_model"
   ]
  },
  {
   "cell_type": "code",
   "execution_count": null,
   "metadata": {},
   "outputs": [],
   "source": [
    "# Plot the best-fit model\n",
    "best_model = new_grid_model(new_index_best)\n",
    "print('Best Models')\n",
    "print(best_model)\n",
    "\n",
    "\n",
    "best_event = mm.Event(datasets=[H_data,K_data], model=best_model)\n",
    "(f_source, f_blend) = best_event.get_ref_fluxes(fit_blending = True)\n",
    "\n",
    "print('chi2: {0}'.format(best_event.get_chi2()))\n",
    "\n",
    "# # Whole model\n",
    "# t_range_whole = [best_fit_model.parameters.t_0 - 5. * best_fit_model.parameters.t_E,\n",
    "#                  best_fit_model.parameters.t_0 + 5. * best_fit_model.parameters.t_E]\n",
    "pl.figure(figsize=(10,10))\n",
    "best_event.plot_model(t_range = [2457900,2458800],subtract_2450000=True, color='black')\n",
    "best_event.plot_data(subtract_2450000=True)\n",
    "pl.title(filename + ' Grid model ')\n",
    "#pl.savefig(filename + '_grid_model', dpi=100)\n",
    "pl.show()\n",
    "\n",
    "# Zoom of planet\n",
    "# Best model = black\n",
    "pl.figure(figsize=(10,10))\n",
    "best_event.plot_model(subtract_2450000=True, color='black',label='best',zorder=10)\n",
    "best_event.plot_data(subtract_2450000=True, s=5, zorder=10)\n",
    "pl.xlim(8600,8725)\n",
    "#pl.title(filename + ' grid model zoom')\n",
    "#pl.savefig(filename + '_grid_model_zoom', dpi=100)\n",
    "pl.show()\n",
    "\n",
    "pl.figure(figsize=(10,10))\n",
    "best_event.plot_residuals(show_errorbars=True,subtract_2450000=True)\n",
    "pl.xlim(8600,8725)\n",
    "pl.ylim(-.2,.2)\n",
    "pl.title(filename + ' grid model residuals')\n",
    "#pl.savefig(filename + '_grid_model_res', dpi=100)\n",
    "pl.show()\n",
    "\n",
    "# Other models (color-coding matches grid)\n",
    "for j, new_index in enumerate(new_index_sorted[1:n_best]):\n",
    "    new_model = new_grid_model(new_index)\n",
    "    pl.figure(figsize=(10,10))\n",
    "    new_model.plot_lc(subtract_2450000=True, color=colors[j - 1], lw=2)\n",
    "    best_event.plot_data(subtract_2450000=True, s=10, zorder=0,marker_list = 'o',markerfacecolor='none')\n",
    "    pl.title('{0} best models'.format(n_best))\n",
    "    pl.xlim(8640,8685)\n",
    "    pl.legend(loc='best')\n",
    "    #print('chi2: {0}'.format(model_event.get_chi2(fit_blending=True)))\n",
    "    pl.show()\n",
    "    print(new_model)"
   ]
  },
  {
   "cell_type": "code",
   "execution_count": null,
   "metadata": {},
   "outputs": [],
   "source": [
    "# Refine the n_best minima to get the best-fit solution\n",
    "parameters_to_fit = ['t_0', 'u_0', 't_E', 'rho', 'alpha', 's', 'q'] #mcmc\n",
    "\n",
    "fits = []\n",
    "for new_index in new_index_sorted[:n_best]:\n",
    "    new_model = new_grid_model(new_index)\n",
    "    event = mm.Event(datasets=[H_data,K_data], model=new_model)\n",
    "    print(event.model)\n",
    "    result = fit_model( \n",
    "        event, parameters_to_fit=parameters_to_fit)\n",
    "    fits.append([result.fun, result.x])\n",
    "    print(result)"
   ]
  },
  {
   "cell_type": "code",
   "execution_count": 163,
   "metadata": {},
   "outputs": [
    {
     "name": "stdout",
     "output_type": "stream",
     "text": [
      "    t_0 (HJD)       u_0    t_E (d)     rho         s            q alpha (deg) \n",
      "2458653.51960  0.024524    68.0967 0.01322   0.91856   0.06994221   105.28001 \n",
      "\n",
      "chi2: 1950.189675322832\n"
     ]
    },
    {
     "name": "stderr",
     "output_type": "stream",
     "text": [
      "/Library/Frameworks/Python.framework/Versions/3.8/lib/python3.8/site-packages/MulensModel-1.17.15-py3.8-macosx-10.9-x86_64.egg/MulensModel/model.py:453: FutureWarning: Keyword \"marker_list\" is deprecated. Use MulensData.plot_properties instead.\n",
      "  warnings.warn('Keyword \"' + old_keyword + '\" is deprecated.' +\n"
     ]
    },
    {
     "data": {
      "image/png": "[encoded data removed]",
      "text/plain": [
       "<Figure size 720x720 with 1 Axes>"
      ]
     },
     "metadata": {
      "needs_background": "light"
     },
     "output_type": "display_data"
    },
    {
     "name": "stdout",
     "output_type": "stream",
     "text": [
      "[46.60512218] 1234.540066714243\n"
     ]
    },
    {
     "data": {
      "image/png": "[encoded data removed]",
      "text/plain": [
       "<Figure size 720x720 with 1 Axes>"
      ]
     },
     "metadata": {
      "needs_background": "light"
     },
     "output_type": "display_data"
    },
    {
     "data": {
      "image/png": "[encoded data removed]",
      "text/plain": [
       "<Figure size 720x720 with 1 Axes>"
      ]
     },
     "metadata": {
      "needs_background": "light"
     },
     "output_type": "display_data"
    },
    {
     "data": {
      "image/png": "[encoded data removed]",
      "text/plain": [
       "<Figure size 720x720 with 1 Axes>"
      ]
     },
     "metadata": {
      "needs_background": "light"
     },
     "output_type": "display_data"
    }
   ],
   "source": [
    "# Plot the best-fit model and output the parameters\n",
    "\n",
    "# Extract best fit\n",
    "chi_2 = [x[0] for x in fits]\n",
    "fit_parameters = [x[1] for x in fits]\n",
    "new_index_best = np.argmin(chi_2)\n",
    "\n",
    "# Setup the model and event\n",
    "parameters = {}\n",
    "for i, parameter in enumerate(parameters_to_fit):\n",
    "    parameters[parameter] = fit_parameters[new_index_best][i]\n",
    "    \n",
    "final_model = mm.Model(parameters)\n",
    "final_model.set_magnification_methods(magnification_methods)\n",
    "final_event = mm.Event(datasets=[H_data,K_data], model=final_model)\n",
    "(f_source, f_blend) = final_event.get_ref_fluxes(fit_blending = True)\n",
    "print(final_event.model)\n",
    "print('chi2: {0}'.format(final_event.get_chi2()))\n",
    "\n",
    "# t_range_whole = [best_fit_model.parameters.t_0 - 5. * best_fit_model.parameters.t_E,\n",
    "#                  best_fit_model.parameters.t_0 + 5. * best_fit_model.parameters.t_E]\n",
    "\n",
    "# # Plot the whole light curve\n",
    "pl.figure(figsize=(10,10))\n",
    "final_event.plot_data(subtract_2450000=True,marker_list ='o')\n",
    "final_event.plot_model(t_range = [2457900,2458800],subtract_2450000=True, color='blue',zorder=10)\n",
    "pl.title(filename + ' final model ')\n",
    "#pl.savefig(filename + 'final_model', dpi=100)\n",
    "pl.show()\n",
    "\n",
    "print(f_source,f_blend)\n",
    "# Plot zoom of the planet\n",
    "pl.figure(figsize=(10,10))\n",
    "final_event.plot_model(f_source = f_source, f_blend = f_blend,t_range = [2457900,2458800],subtract_2450000=True, color='blue', zorder=10)\n",
    "final_event.plot_data(subtract_2450000=True)\n",
    "\n",
    "pl.xlim(8640,8690)\n",
    "pl.title(filename + ' final model zoom')\n",
    "#pl.savefig(filename + '_final_model_zoom', dpi=100)\n",
    "pl.show()\n",
    "\n",
    "pl.figure(figsize=(10,10))\n",
    "final_event.plot_residuals(show_errorbars=True,subtract_2450000=True)\n",
    "pl.xlim(8600,8725)\n",
    "pl.ylim(-.15,.15)\n",
    "pl.title(filename + ' final model residuals')\n",
    "#pl.savefig(filename + '_final_model_res', dpi=100)\n",
    "pl.show()\n",
    "\n",
    "pl.figure(figsize=(10,10))\n",
    "final_event.plot_trajectory(color='blue', caustics=True)\n",
    "pl.title(filename + ' final model caustic')\n",
    "#pl.savefig(filename + '_final_model_caustic', dpi=100)\n",
    "pl.show()"
   ]
  },
  {
   "cell_type": "code",
   "execution_count": null,
   "metadata": {},
   "outputs": [],
   "source": []
  }
 ],
 "metadata": {
  "kernelspec": {
   "display_name": "Python 3",
   "language": "python",
   "name": "python3"
  },
  "language_info": {
   "codemirror_mode": {
    "name": "ipython",
    "version": 3
   },
   "file_extension": ".py",
   "mimetype": "text/x-python",
   "name": "python",
   "nbconvert_exporter": "python",
   "pygments_lexer": "ipython3",
   "version": "3.8.3"
  }
 },
 "nbformat": 4,
 "nbformat_minor": 4
}
